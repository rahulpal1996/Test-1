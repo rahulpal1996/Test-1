{
 "cells": [
  {
   "cell_type": "code",
   "execution_count": 11,
   "id": "9a592867",
   "metadata": {},
   "outputs": [],
   "source": [
    "a=9*6"
   ]
  },
  {
   "cell_type": "code",
   "execution_count": 12,
   "id": "e283c102",
   "metadata": {},
   "outputs": [
    {
     "data": {
      "text/plain": [
       "54"
      ]
     },
     "execution_count": 12,
     "metadata": {},
     "output_type": "execute_result"
    }
   ],
   "source": [
    "a"
   ]
  },
  {
   "cell_type": "code",
   "execution_count": 13,
   "id": "31230645",
   "metadata": {},
   "outputs": [],
   "source": [
    "a=a+2*a"
   ]
  },
  {
   "cell_type": "code",
   "execution_count": 14,
   "id": "11eaf9ff",
   "metadata": {},
   "outputs": [
    {
     "data": {
      "text/plain": [
       "162"
      ]
     },
     "execution_count": 14,
     "metadata": {},
     "output_type": "execute_result"
    }
   ],
   "source": [
    "a"
   ]
  },
  {
   "cell_type": "code",
   "execution_count": 16,
   "id": "56c573d3",
   "metadata": {},
   "outputs": [],
   "source": [
    "my_income=22000"
   ]
  },
  {
   "cell_type": "code",
   "execution_count": 17,
   "id": "0116515f",
   "metadata": {},
   "outputs": [],
   "source": [
    "tax_rate=0.1"
   ]
  },
  {
   "cell_type": "code",
   "execution_count": 18,
   "id": "11d7a01b",
   "metadata": {},
   "outputs": [],
   "source": [
    "my_taxes=my_income*tax_rate"
   ]
  },
  {
   "cell_type": "code",
   "execution_count": 19,
   "id": "5753b13d",
   "metadata": {},
   "outputs": [
    {
     "data": {
      "text/plain": [
       "2200.0"
      ]
     },
     "execution_count": 19,
     "metadata": {},
     "output_type": "execute_result"
    }
   ],
   "source": [
    "my_taxes"
   ]
  },
  {
   "cell_type": "code",
   "execution_count": null,
   "id": "2512a88f",
   "metadata": {},
   "outputs": [],
   "source": []
  }
 ],
 "metadata": {
  "kernelspec": {
   "display_name": "Python 3 (ipykernel)",
   "language": "python",
   "name": "python3"
  },
  "language_info": {
   "codemirror_mode": {
    "name": "ipython",
    "version": 3
   },
   "file_extension": ".py",
   "mimetype": "text/x-python",
   "name": "python",
   "nbconvert_exporter": "python",
   "pygments_lexer": "ipython3",
   "version": "3.9.12"
  }
 },
 "nbformat": 4,
 "nbformat_minor": 5
}
