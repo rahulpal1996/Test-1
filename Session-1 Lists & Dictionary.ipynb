{
 "cells": [
  {
   "cell_type": "code",
   "execution_count": 1,
   "id": "bcaf9212",
   "metadata": {},
   "outputs": [],
   "source": [
    "my_list=[1,2,3]"
   ]
  },
  {
   "cell_type": "code",
   "execution_count": 2,
   "id": "ba477514",
   "metadata": {},
   "outputs": [
    {
     "data": {
      "text/plain": [
       "[1, 2, 3]"
      ]
     },
     "execution_count": 2,
     "metadata": {},
     "output_type": "execute_result"
    }
   ],
   "source": [
    "my_list"
   ]
  },
  {
   "cell_type": "code",
   "execution_count": 8,
   "id": "665157f8",
   "metadata": {},
   "outputs": [],
   "source": [
    "my_list=[\"Hey dude, u have to get\", 1,2,3, 'from here']"
   ]
  },
  {
   "cell_type": "code",
   "execution_count": 9,
   "id": "15939bf1",
   "metadata": {},
   "outputs": [
    {
     "data": {
      "text/plain": [
       "['Hey dude, u have to get', 1, 2, 3, 'from here']"
      ]
     },
     "execution_count": 9,
     "metadata": {},
     "output_type": "execute_result"
    }
   ],
   "source": [
    "my_list"
   ]
  },
  {
   "cell_type": "code",
   "execution_count": 10,
   "id": "96d3e561",
   "metadata": {},
   "outputs": [
    {
     "data": {
      "text/plain": [
       "5"
      ]
     },
     "execution_count": 10,
     "metadata": {},
     "output_type": "execute_result"
    }
   ],
   "source": [
    "len(my_list)"
   ]
  },
  {
   "cell_type": "code",
   "execution_count": 11,
   "id": "255a3b54",
   "metadata": {},
   "outputs": [],
   "source": [
    "my_list=[\"Hey dude, u have to get\", 123, 'from here']"
   ]
  },
  {
   "cell_type": "code",
   "execution_count": 12,
   "id": "d357ac50",
   "metadata": {},
   "outputs": [
    {
     "data": {
      "text/plain": [
       "['Hey dude, u have to get', 123, 'from here']"
      ]
     },
     "execution_count": 12,
     "metadata": {},
     "output_type": "execute_result"
    }
   ],
   "source": [
    "my_list"
   ]
  },
  {
   "cell_type": "code",
   "execution_count": 13,
   "id": "5e4df4af",
   "metadata": {},
   "outputs": [
    {
     "data": {
      "text/plain": [
       "3"
      ]
     },
     "execution_count": 13,
     "metadata": {},
     "output_type": "execute_result"
    }
   ],
   "source": [
    "mlen(my_list)"
   ]
  },
  {
   "cell_type": "code",
   "execution_count": 20,
   "id": "574d7907",
   "metadata": {},
   "outputs": [],
   "source": [
    "my_list=[\" Hey dude, u have to get \",9,2,11, \"from here, Or else i'm gonna lick your ass so badly\", \"Okay buddy\"]"
   ]
  },
  {
   "cell_type": "code",
   "execution_count": 21,
   "id": "fea90ce0",
   "metadata": {},
   "outputs": [
    {
     "data": {
      "text/plain": [
       "[' Hey dude, u have to get ',\n",
       " 9,\n",
       " 2,\n",
       " 11,\n",
       " \"from here, Or else i'm gonna lick your ass so badly\",\n",
       " 'Okay buddy']"
      ]
     },
     "execution_count": 21,
     "metadata": {},
     "output_type": "execute_result"
    }
   ],
   "source": [
    "my_list"
   ]
  },
  {
   "cell_type": "code",
   "execution_count": 18,
   "id": "60851dd6",
   "metadata": {},
   "outputs": [
    {
     "data": {
      "text/plain": [
       "'Hey dude, u have to get'"
      ]
     },
     "execution_count": 18,
     "metadata": {},
     "output_type": "execute_result"
    }
   ],
   "source": [
    "my_list[0]"
   ]
  },
  {
   "cell_type": "code",
   "execution_count": 19,
   "id": "f2e8475c",
   "metadata": {},
   "outputs": [
    {
     "data": {
      "text/plain": [
       "11"
      ]
     },
     "execution_count": 19,
     "metadata": {},
     "output_type": "execute_result"
    }
   ],
   "source": [
    "my_list[3]"
   ]
  },
  {
   "cell_type": "code",
   "execution_count": 22,
   "id": "31d30662",
   "metadata": {},
   "outputs": [
    {
     "data": {
      "text/plain": [
       "9"
      ]
     },
     "execution_count": 22,
     "metadata": {},
     "output_type": "execute_result"
    }
   ],
   "source": [
    "my_list[1]"
   ]
  },
  {
   "cell_type": "code",
   "execution_count": 24,
   "id": "723f3b09",
   "metadata": {},
   "outputs": [
    {
     "data": {
      "text/plain": [
       "'Okay buddy'"
      ]
     },
     "execution_count": 24,
     "metadata": {},
     "output_type": "execute_result"
    }
   ],
   "source": [
    "my_list[5]"
   ]
  },
  {
   "cell_type": "code",
   "execution_count": 25,
   "id": "38d7078d",
   "metadata": {},
   "outputs": [
    {
     "data": {
      "text/plain": [
       "[9, 2, 11, \"from here, Or else i'm gonna lick your ass so badly\", 'Okay buddy']"
      ]
     },
     "execution_count": 25,
     "metadata": {},
     "output_type": "execute_result"
    }
   ],
   "source": [
    "my_list[1:]"
   ]
  },
  {
   "cell_type": "code",
   "execution_count": 26,
   "id": "3a76c3eb",
   "metadata": {},
   "outputs": [
    {
     "data": {
      "text/plain": [
       "[' Hey dude, u have to get ',\n",
       " 9,\n",
       " 2,\n",
       " 11,\n",
       " \"from here, Or else i'm gonna kick your ass so badly\",\n",
       " 'Okay buddy']"
      ]
     },
     "execution_count": 26,
     "metadata": {},
     "output_type": "execute_result"
    }
   ],
   "source": [
    "my_list[0:]"
   ]
  },
  {
   "cell_type": "code",
   "execution_count": 34,
   "id": "3500a161",
   "metadata": {},
   "outputs": [
    {
     "data": {
      "text/plain": [
       "[11, \"from here, Or else i'm gonna lick your ass so badly\"]"
      ]
     },
     "execution_count": 34,
     "metadata": {},
     "output_type": "execute_result"
    }
   ],
   "source": [
    "my_list[3:-1]"
   ]
  },
  {
   "cell_type": "code",
   "execution_count": 35,
   "id": "e552cc2c",
   "metadata": {},
   "outputs": [
    {
     "data": {
      "text/plain": [
       "[' Hey dude, u have to get ']"
      ]
     },
     "execution_count": 35,
     "metadata": {},
     "output_type": "execute_result"
    }
   ],
   "source": [
    "my_list[:1]"
   ]
  },
  {
   "cell_type": "code",
   "execution_count": 36,
   "id": "be62d09c",
   "metadata": {},
   "outputs": [
    {
     "data": {
      "text/plain": [
       "' Hey dude, u have to get '"
      ]
     },
     "execution_count": 36,
     "metadata": {},
     "output_type": "execute_result"
    }
   ],
   "source": [
    "my_list[0]"
   ]
  },
  {
   "cell_type": "code",
   "execution_count": 37,
   "id": "201edf2b",
   "metadata": {},
   "outputs": [
    {
     "data": {
      "text/plain": [
       "[' Hey dude, u have to get ',\n",
       " 9,\n",
       " 2,\n",
       " 11,\n",
       " \"from here, Or else i'm gonna kick your ass so badly\",\n",
       " 'Okay buddy']"
      ]
     },
     "execution_count": 37,
     "metadata": {},
     "output_type": "execute_result"
    }
   ],
   "source": [
    "my_list"
   ]
  },
  {
   "cell_type": "code",
   "execution_count": 38,
   "id": "47bd5a08",
   "metadata": {},
   "outputs": [
    {
     "data": {
      "text/plain": [
       "[2, 11, \"from here, Or else i'm gonna lick your ass so badly\", 'Okay buddy']"
      ]
     },
     "execution_count": 38,
     "metadata": {},
     "output_type": "execute_result"
    }
   ],
   "source": [
    "my_list[2:]"
   ]
  },
  {
   "cell_type": "code",
   "execution_count": 39,
   "id": "8c2fa6a1",
   "metadata": {},
   "outputs": [
    {
     "data": {
      "text/plain": [
       "[' Hey dude, u have to get ', 9]"
      ]
     },
     "execution_count": 39,
     "metadata": {},
     "output_type": "execute_result"
    }
   ],
   "source": [
    "my_list[:2]"
   ]
  },
  {
   "cell_type": "code",
   "execution_count": 40,
   "id": "e202ddb1",
   "metadata": {},
   "outputs": [
    {
     "data": {
      "text/plain": [
       "[' Hey dude, u have to get ', 9, 2, 11]"
      ]
     },
     "execution_count": 40,
     "metadata": {},
     "output_type": "execute_result"
    }
   ],
   "source": [
    "my_list[0:4]"
   ]
  },
  {
   "cell_type": "code",
   "execution_count": 41,
   "id": "9860db1c",
   "metadata": {},
   "outputs": [
    {
     "data": {
      "text/plain": [
       "[' Hey dude, u have to get ', 9, 2]"
      ]
     },
     "execution_count": 41,
     "metadata": {},
     "output_type": "execute_result"
    }
   ],
   "source": [
    "my_list[0:3]"
   ]
  },
  {
   "cell_type": "code",
   "execution_count": 42,
   "id": "78b9c10d",
   "metadata": {},
   "outputs": [
    {
     "data": {
      "text/plain": [
       "[' Hey dude, u have to get ',\n",
       " 9,\n",
       " 2,\n",
       " 11,\n",
       " \"from here, Or else i'm gonna lick your ass so badly\",\n",
       " 'Okay buddy',\n",
       " 'new items']"
      ]
     },
     "execution_count": 42,
     "metadata": {},
     "output_type": "execute_result"
    }
   ],
   "source": [
    "my_list + [\"new items\"]"
   ]
  },
  {
   "cell_type": "code",
   "execution_count": 43,
   "id": "97c76ec6",
   "metadata": {},
   "outputs": [
    {
     "data": {
      "text/plain": [
       "[' Hey dude, u have to get ',\n",
       " 9,\n",
       " 2,\n",
       " 11,\n",
       " \"from here, Or else i'm gonna lick your ass so badly\",\n",
       " 'Okay buddy',\n",
       " 'Pasta']"
      ]
     },
     "execution_count": 43,
     "metadata": {},
     "output_type": "execute_result"
    }
   ],
   "source": [
    "my_list + [\"Pasta\"]"
   ]
  },
  {
   "cell_type": "code",
   "execution_count": 46,
   "id": "63963b86",
   "metadata": {},
   "outputs": [],
   "source": [
    "my_list = my_list + [\"Pasta\"]"
   ]
  },
  {
   "cell_type": "code",
   "execution_count": null,
   "id": "6c9e9a15",
   "metadata": {},
   "outputs": [],
   "source": []
  },
  {
   "cell_type": "code",
   "execution_count": 47,
   "id": "d7c6d1b7",
   "metadata": {},
   "outputs": [
    {
     "data": {
      "text/plain": [
       "[' Hey dude, u have to get ',\n",
       " 9,\n",
       " 2,\n",
       " 11,\n",
       " \"from here, Or else i'm gonna lick your ass so badly\",\n",
       " 'Okay buddy',\n",
       " 'Pasta']"
      ]
     },
     "execution_count": 47,
     "metadata": {},
     "output_type": "execute_result"
    }
   ],
   "source": [
    "my_list"
   ]
  },
  {
   "cell_type": "code",
   "execution_count": 48,
   "id": "d710e0bf",
   "metadata": {},
   "outputs": [
    {
     "data": {
      "text/plain": [
       "[' Hey dude, u have to get ',\n",
       " 9,\n",
       " 2,\n",
       " 11,\n",
       " \"from here, Or else i'm gonna lick your ass so badly\",\n",
       " 'Okay buddy',\n",
       " 'Pasta']"
      ]
     },
     "execution_count": 48,
     "metadata": {},
     "output_type": "execute_result"
    }
   ],
   "source": [
    "my_list"
   ]
  },
  {
   "cell_type": "code",
   "execution_count": 58,
   "id": "ff766f1b",
   "metadata": {},
   "outputs": [
    {
     "data": {
      "text/plain": [
       "[' Hey dude, u have to get ',\n",
       " 9,\n",
       " 2,\n",
       " 11,\n",
       " \"from here, Or else i'm gonna lick your ass so badly\",\n",
       " 'Okay buddy',\n",
       " 'Pasta',\n",
       " ' Hey dude, u have to get ',\n",
       " 9,\n",
       " 2,\n",
       " 11,\n",
       " \"from here, Or else i'm gonna lick your ass so badly\",\n",
       " 'Okay buddy',\n",
       " 'Pasta',\n",
       " ' Hey dude, u have to get ',\n",
       " 9,\n",
       " 2,\n",
       " 11,\n",
       " \"from here, Or else i'm gonna lick your ass so badly\",\n",
       " 'Okay buddy',\n",
       " 'Pasta',\n",
       " ' Hey dude, u have to get ',\n",
       " 9,\n",
       " 2,\n",
       " 11,\n",
       " \"from here, Or else i'm gonna lick your ass so badly\",\n",
       " 'Okay buddy',\n",
       " 'Pasta',\n",
       " ' Hey dude, u have to get ',\n",
       " 9,\n",
       " 2,\n",
       " 11,\n",
       " \"from here, Or else i'm gonna lick your ass so badly\",\n",
       " 'Okay buddy',\n",
       " 'Pasta',\n",
       " ' Hey dude, u have to get ',\n",
       " 9,\n",
       " 2,\n",
       " 11,\n",
       " \"from here, Or else i'm gonna lick your ass so badly\",\n",
       " 'Okay buddy',\n",
       " 'Pasta',\n",
       " ' Hey dude, u have to get ',\n",
       " 9,\n",
       " 2,\n",
       " 11,\n",
       " \"from here, Or else i'm gonna lick your ass so badly\",\n",
       " 'Okay buddy',\n",
       " 'Pasta',\n",
       " ' Hey dude, u have to get ',\n",
       " 9,\n",
       " 2,\n",
       " 11,\n",
       " \"from here, Or else i'm gonna lick your ass so badly\",\n",
       " 'Okay buddy',\n",
       " 'Pasta',\n",
       " ' Hey dude, u have to get ',\n",
       " 9,\n",
       " 2,\n",
       " 11,\n",
       " \"from here, Or else i'm gonna lick your ass so badly\",\n",
       " 'Okay buddy',\n",
       " 'Pasta',\n",
       " ' Hey dude, u have to get ',\n",
       " 9,\n",
       " 2,\n",
       " 11,\n",
       " \"from here, Or else i'm gonna lick your ass so badly\",\n",
       " 'Okay buddy',\n",
       " 'Pasta',\n",
       " ' Hey dude, u have to get ',\n",
       " 9,\n",
       " 2,\n",
       " 11,\n",
       " \"from here, Or else i'm gonna lick your ass so badly\",\n",
       " 'Okay buddy',\n",
       " 'Pasta',\n",
       " ' Hey dude, u have to get ',\n",
       " 9,\n",
       " 2,\n",
       " 11,\n",
       " \"from here, Or else i'm gonna lick your ass so badly\",\n",
       " 'Okay buddy',\n",
       " 'Pasta',\n",
       " ' Hey dude, u have to get ',\n",
       " 9,\n",
       " 2,\n",
       " 11,\n",
       " \"from here, Or else i'm gonna lick your ass so badly\",\n",
       " 'Okay buddy',\n",
       " 'Pasta',\n",
       " ' Hey dude, u have to get ',\n",
       " 9,\n",
       " 2,\n",
       " 11,\n",
       " \"from here, Or else i'm gonna lick your ass so badly\",\n",
       " 'Okay buddy',\n",
       " 'Pasta',\n",
       " ' Hey dude, u have to get ',\n",
       " 9,\n",
       " 2,\n",
       " 11,\n",
       " \"from here, Or else i'm gonna lick your ass so badly\",\n",
       " 'Okay buddy',\n",
       " 'Pasta',\n",
       " ' Hey dude, u have to get ',\n",
       " 9,\n",
       " 2,\n",
       " 11,\n",
       " \"from here, Or else i'm gonna lick your ass so badly\",\n",
       " 'Okay buddy',\n",
       " 'Pasta',\n",
       " ' Hey dude, u have to get ',\n",
       " 9,\n",
       " 2,\n",
       " 11,\n",
       " \"from here, Or else i'm gonna lick your ass so badly\",\n",
       " 'Okay buddy',\n",
       " 'Pasta',\n",
       " ' Hey dude, u have to get ',\n",
       " 9,\n",
       " 2,\n",
       " 11,\n",
       " \"from here, Or else i'm gonna lick your ass so badly\",\n",
       " 'Okay buddy',\n",
       " 'Pasta',\n",
       " ' Hey dude, u have to get ',\n",
       " 9,\n",
       " 2,\n",
       " 11,\n",
       " \"from here, Or else i'm gonna lick your ass so badly\",\n",
       " 'Okay buddy',\n",
       " 'Pasta',\n",
       " ' Hey dude, u have to get ',\n",
       " 9,\n",
       " 2,\n",
       " 11,\n",
       " \"from here, Or else i'm gonna lick your ass so badly\",\n",
       " 'Okay buddy',\n",
       " 'Pasta',\n",
       " ' Hey dude, u have to get ',\n",
       " 9,\n",
       " 2,\n",
       " 11,\n",
       " \"from here, Or else i'm gonna lick your ass so badly\",\n",
       " 'Okay buddy',\n",
       " 'Pasta',\n",
       " ' Hey dude, u have to get ',\n",
       " 9,\n",
       " 2,\n",
       " 11,\n",
       " \"from here, Or else i'm gonna lick your ass so badly\",\n",
       " 'Okay buddy',\n",
       " 'Pasta',\n",
       " ' Hey dude, u have to get ',\n",
       " 9,\n",
       " 2,\n",
       " 11,\n",
       " \"from here, Or else i'm gonna lick your ass so badly\",\n",
       " 'Okay buddy',\n",
       " 'Pasta',\n",
       " ' Hey dude, u have to get ',\n",
       " 9,\n",
       " 2,\n",
       " 11,\n",
       " \"from here, Or else i'm gonna lick your ass so badly\",\n",
       " 'Okay buddy',\n",
       " 'Pasta']"
      ]
     },
     "execution_count": 58,
     "metadata": {},
     "output_type": "execute_result"
    }
   ],
   "source": [
    "my_list * 2"
   ]
  },
  {
   "cell_type": "code",
   "execution_count": 65,
   "id": "3871426f",
   "metadata": {},
   "outputs": [],
   "source": [
    "my_list=[' Hey dude, u have to get ',9,2,11,\"from here,Or else i'm gonna kick your ass so badly\",'Okay buddy','Wanna eat Pasta']"
   ]
  },
  {
   "cell_type": "code",
   "execution_count": 66,
   "id": "2873a16c",
   "metadata": {},
   "outputs": [
    {
     "data": {
      "text/plain": [
       "[' Hey dude, u have to get ',\n",
       " 9,\n",
       " 2,\n",
       " 11,\n",
       " \"from here,Or else i'm gonna kick your ass so badly\",\n",
       " 'Okay buddy',\n",
       " 'Wanna eat Pasta']"
      ]
     },
     "execution_count": 66,
     "metadata": {},
     "output_type": "execute_result"
    }
   ],
   "source": [
    "my_list"
   ]
  },
  {
   "cell_type": "code",
   "execution_count": 68,
   "id": "5ebb119c",
   "metadata": {},
   "outputs": [],
   "source": [
    "a=[1,2,3]"
   ]
  },
  {
   "cell_type": "code",
   "execution_count": 69,
   "id": "387656f8",
   "metadata": {},
   "outputs": [
    {
     "data": {
      "text/plain": [
       "[1, 2, 3]"
      ]
     },
     "execution_count": 69,
     "metadata": {},
     "output_type": "execute_result"
    }
   ],
   "source": [
    "a"
   ]
  },
  {
   "cell_type": "code",
   "execution_count": 76,
   "id": "c11f0811",
   "metadata": {},
   "outputs": [],
   "source": [
    "a.append(\"append me\")"
   ]
  },
  {
   "cell_type": "code",
   "execution_count": 77,
   "id": "757f6269",
   "metadata": {},
   "outputs": [
    {
     "data": {
      "text/plain": [
       "[1, 2, 3, 'append me', 'append me', 'append me']"
      ]
     },
     "execution_count": 77,
     "metadata": {},
     "output_type": "execute_result"
    }
   ],
   "source": [
    "a"
   ]
  },
  {
   "cell_type": "code",
   "execution_count": 78,
   "id": "ede71b8e",
   "metadata": {},
   "outputs": [
    {
     "data": {
      "text/plain": [
       "[1, 2, 3, 'append me', 'append me', 'append me']"
      ]
     },
     "execution_count": 78,
     "metadata": {},
     "output_type": "execute_result"
    }
   ],
   "source": [
    "a"
   ]
  },
  {
   "cell_type": "code",
   "execution_count": 99,
   "id": "79d298ee",
   "metadata": {},
   "outputs": [],
   "source": [
    "a=[1,2,3]"
   ]
  },
  {
   "cell_type": "code",
   "execution_count": 100,
   "id": "1b097a67",
   "metadata": {},
   "outputs": [
    {
     "data": {
      "text/plain": [
       "[1, 2, 3]"
      ]
     },
     "execution_count": 100,
     "metadata": {},
     "output_type": "execute_result"
    }
   ],
   "source": [
    "a"
   ]
  },
  {
   "cell_type": "code",
   "execution_count": 101,
   "id": "a56a061e",
   "metadata": {},
   "outputs": [
    {
     "data": {
      "text/plain": [
       "1"
      ]
     },
     "execution_count": 101,
     "metadata": {},
     "output_type": "execute_result"
    }
   ],
   "source": [
    "a.pop(0)"
   ]
  },
  {
   "cell_type": "code",
   "execution_count": 102,
   "id": "f626e793",
   "metadata": {},
   "outputs": [],
   "source": [
    "popped_item=a.pop()"
   ]
  },
  {
   "cell_type": "code",
   "execution_count": 103,
   "id": "613f424d",
   "metadata": {},
   "outputs": [
    {
     "data": {
      "text/plain": [
       "3"
      ]
     },
     "execution_count": 103,
     "metadata": {},
     "output_type": "execute_result"
    }
   ],
   "source": [
    "popped_item"
   ]
  },
  {
   "cell_type": "code",
   "execution_count": 104,
   "id": "ef29e91e",
   "metadata": {},
   "outputs": [],
   "source": [
    "a=[1,2,3,4,5,6,7,8,9,10,11,12,13,14]"
   ]
  },
  {
   "cell_type": "code",
   "execution_count": 105,
   "id": "8f9f39a5",
   "metadata": {},
   "outputs": [],
   "source": [
    "popped_items=a.pop()"
   ]
  },
  {
   "cell_type": "code",
   "execution_count": 106,
   "id": "e8f386b9",
   "metadata": {},
   "outputs": [
    {
     "data": {
      "text/plain": [
       "14"
      ]
     },
     "execution_count": 106,
     "metadata": {},
     "output_type": "execute_result"
    }
   ],
   "source": [
    "popped_items"
   ]
  },
  {
   "cell_type": "code",
   "execution_count": 107,
   "id": "f2b97efa",
   "metadata": {},
   "outputs": [],
   "source": [
    "popped_items=a.pop(10)"
   ]
  },
  {
   "cell_type": "code",
   "execution_count": 108,
   "id": "692e0225",
   "metadata": {},
   "outputs": [
    {
     "data": {
      "text/plain": [
       "11"
      ]
     },
     "execution_count": 108,
     "metadata": {},
     "output_type": "execute_result"
    }
   ],
   "source": [
    "popped_items"
   ]
  },
  {
   "cell_type": "code",
   "execution_count": 111,
   "id": "3ba8aa0b",
   "metadata": {},
   "outputs": [
    {
     "data": {
      "text/plain": [
       "[1, 2, 3, 4, 5, 6, 7, 8, 9, 10, 12, 13]"
      ]
     },
     "execution_count": 111,
     "metadata": {},
     "output_type": "execute_result"
    }
   ],
   "source": [
    "a"
   ]
  },
  {
   "cell_type": "code",
   "execution_count": 113,
   "id": "f5e6b103",
   "metadata": {},
   "outputs": [],
   "source": [
    "popped_items=a.pop(11)"
   ]
  },
  {
   "cell_type": "code",
   "execution_count": 115,
   "id": "77b7843b",
   "metadata": {},
   "outputs": [
    {
     "data": {
      "text/plain": [
       "13"
      ]
     },
     "execution_count": 115,
     "metadata": {},
     "output_type": "execute_result"
    }
   ],
   "source": [
    "popped_items"
   ]
  },
  {
   "cell_type": "code",
   "execution_count": 116,
   "id": "6d61c973",
   "metadata": {},
   "outputs": [
    {
     "data": {
      "text/plain": [
       "[1, 2, 3, 4, 5, 6, 7, 8, 9, 10, 12]"
      ]
     },
     "execution_count": 116,
     "metadata": {},
     "output_type": "execute_result"
    }
   ],
   "source": [
    "a"
   ]
  },
  {
   "cell_type": "code",
   "execution_count": 119,
   "id": "f7268f65",
   "metadata": {},
   "outputs": [],
   "source": [
    "popped_items=a.pop(8)"
   ]
  },
  {
   "cell_type": "code",
   "execution_count": 120,
   "id": "76c99c1c",
   "metadata": {},
   "outputs": [
    {
     "data": {
      "text/plain": [
       "10"
      ]
     },
     "execution_count": 120,
     "metadata": {},
     "output_type": "execute_result"
    }
   ],
   "source": [
    "popped_items"
   ]
  },
  {
   "cell_type": "code",
   "execution_count": 121,
   "id": "b31d2d0b",
   "metadata": {},
   "outputs": [
    {
     "data": {
      "text/plain": [
       "[1, 2, 3, 4, 5, 6, 7, 8, 12]"
      ]
     },
     "execution_count": 121,
     "metadata": {},
     "output_type": "execute_result"
    }
   ],
   "source": [
    "a"
   ]
  },
  {
   "cell_type": "code",
   "execution_count": 122,
   "id": "0579fad3",
   "metadata": {},
   "outputs": [],
   "source": [
    "popped_items=a.pop(4)"
   ]
  },
  {
   "cell_type": "code",
   "execution_count": 123,
   "id": "31a9d011",
   "metadata": {},
   "outputs": [
    {
     "data": {
      "text/plain": [
       "5"
      ]
     },
     "execution_count": 123,
     "metadata": {},
     "output_type": "execute_result"
    }
   ],
   "source": [
    "popped_items"
   ]
  },
  {
   "cell_type": "code",
   "execution_count": 124,
   "id": "746db58c",
   "metadata": {},
   "outputs": [
    {
     "data": {
      "text/plain": [
       "[1, 2, 3, 4, 6, 7, 8, 12]"
      ]
     },
     "execution_count": 124,
     "metadata": {},
     "output_type": "execute_result"
    }
   ],
   "source": [
    "a"
   ]
  },
  {
   "cell_type": "code",
   "execution_count": 133,
   "id": "96131c2a",
   "metadata": {},
   "outputs": [],
   "source": [
    "a=[1,2,3,4,5,6,7,8,9,10,11,12,13,14,15,]"
   ]
  },
  {
   "cell_type": "code",
   "execution_count": 134,
   "id": "623873ce",
   "metadata": {},
   "outputs": [],
   "source": [
    "popped_item = a.pop(1)"
   ]
  },
  {
   "cell_type": "code",
   "execution_count": 135,
   "id": "fdf2c511",
   "metadata": {},
   "outputs": [
    {
     "data": {
      "text/plain": [
       "2"
      ]
     },
     "execution_count": 135,
     "metadata": {},
     "output_type": "execute_result"
    }
   ],
   "source": [
    "popped_item"
   ]
  },
  {
   "cell_type": "code",
   "execution_count": 136,
   "id": "cb4b6500",
   "metadata": {},
   "outputs": [
    {
     "data": {
      "text/plain": [
       "[1, 3, 4, 5, 6, 7, 8, 9, 10, 11, 12, 13, 14, 15]"
      ]
     },
     "execution_count": 136,
     "metadata": {},
     "output_type": "execute_result"
    }
   ],
   "source": [
    "a"
   ]
  },
  {
   "cell_type": "code",
   "execution_count": 137,
   "id": "57cac8d0",
   "metadata": {},
   "outputs": [],
   "source": [
    "popped_item = a.pop(5)"
   ]
  },
  {
   "cell_type": "code",
   "execution_count": 138,
   "id": "0671d7eb",
   "metadata": {},
   "outputs": [
    {
     "data": {
      "text/plain": [
       "7"
      ]
     },
     "execution_count": 138,
     "metadata": {},
     "output_type": "execute_result"
    }
   ],
   "source": [
    "popped_item"
   ]
  },
  {
   "cell_type": "code",
   "execution_count": 139,
   "id": "8dc68dad",
   "metadata": {},
   "outputs": [
    {
     "data": {
      "text/plain": [
       "[1, 3, 4, 5, 6, 8, 9, 10, 11, 12, 13, 14, 15]"
      ]
     },
     "execution_count": 139,
     "metadata": {},
     "output_type": "execute_result"
    }
   ],
   "source": [
    "a"
   ]
  },
  {
   "cell_type": "code",
   "execution_count": 141,
   "id": "d26cae08",
   "metadata": {},
   "outputs": [
    {
     "data": {
      "text/plain": [
       "13"
      ]
     },
     "execution_count": 141,
     "metadata": {},
     "output_type": "execute_result"
    }
   ],
   "source": [
    "a[10]"
   ]
  },
  {
   "cell_type": "code",
   "execution_count": 143,
   "id": "74114956",
   "metadata": {},
   "outputs": [
    {
     "data": {
      "text/plain": [
       "14"
      ]
     },
     "execution_count": 143,
     "metadata": {},
     "output_type": "execute_result"
    }
   ],
   "source": [
    "a[11]"
   ]
  },
  {
   "cell_type": "code",
   "execution_count": 144,
   "id": "a8d6c5df",
   "metadata": {},
   "outputs": [
    {
     "data": {
      "text/plain": [
       "[1, 3, 4, 5, 6, 8, 9, 10, 11, 12, 13, 14, 15]"
      ]
     },
     "execution_count": 144,
     "metadata": {},
     "output_type": "execute_result"
    }
   ],
   "source": [
    "a"
   ]
  },
  {
   "cell_type": "code",
   "execution_count": 3,
   "id": "e3486f25",
   "metadata": {},
   "outputs": [],
   "source": [
    "new_list=['a','b','h','c','n']"
   ]
  },
  {
   "cell_type": "code",
   "execution_count": 4,
   "id": "1c1cf874",
   "metadata": {},
   "outputs": [
    {
     "data": {
      "text/plain": [
       "['a', 'b', 'h', 'c', 'n']"
      ]
     },
     "execution_count": 4,
     "metadata": {},
     "output_type": "execute_result"
    }
   ],
   "source": [
    "new_list"
   ]
  },
  {
   "cell_type": "code",
   "execution_count": 5,
   "id": "512af765",
   "metadata": {},
   "outputs": [],
   "source": [
    "new_list.reverse()"
   ]
  },
  {
   "cell_type": "code",
   "execution_count": 6,
   "id": "6197e496",
   "metadata": {},
   "outputs": [
    {
     "data": {
      "text/plain": [
       "['n', 'c', 'h', 'b', 'a']"
      ]
     },
     "execution_count": 6,
     "metadata": {},
     "output_type": "execute_result"
    }
   ],
   "source": [
    "new_list"
   ]
  },
  {
   "cell_type": "code",
   "execution_count": 7,
   "id": "0ad9a08c",
   "metadata": {},
   "outputs": [],
   "source": [
    "new_list.sort()"
   ]
  },
  {
   "cell_type": "code",
   "execution_count": 8,
   "id": "c563ae66",
   "metadata": {},
   "outputs": [
    {
     "data": {
      "text/plain": [
       "['a', 'b', 'c', 'h', 'n']"
      ]
     },
     "execution_count": 8,
     "metadata": {},
     "output_type": "execute_result"
    }
   ],
   "source": [
    "new_list"
   ]
  },
  {
   "cell_type": "code",
   "execution_count": 14,
   "id": "dd0f38e6",
   "metadata": {},
   "outputs": [],
   "source": [
    "lst_1=[1,2,3]"
   ]
  },
  {
   "cell_type": "code",
   "execution_count": 15,
   "id": "8cb779ad",
   "metadata": {},
   "outputs": [
    {
     "data": {
      "text/plain": [
       "[1, 2, 3]"
      ]
     },
     "execution_count": 15,
     "metadata": {},
     "output_type": "execute_result"
    }
   ],
   "source": [
    "lst_1"
   ]
  },
  {
   "cell_type": "code",
   "execution_count": 16,
   "id": "e1e7b122",
   "metadata": {},
   "outputs": [],
   "source": [
    "llnd_2=[4,5,6]"
   ]
  },
  {
   "cell_type": "code",
   "execution_count": 17,
   "id": "b2348047",
   "metadata": {},
   "outputs": [
    {
     "data": {
      "text/plain": [
       "[4, 5, 6]"
      ]
     },
     "execution_count": 17,
     "metadata": {},
     "output_type": "execute_result"
    }
   ],
   "source": [
    "llnd_2"
   ]
  },
  {
   "cell_type": "code",
   "execution_count": 18,
   "id": "de1c22e5",
   "metadata": {},
   "outputs": [],
   "source": [
    "lllrd_3=[7,8,9]"
   ]
  },
  {
   "cell_type": "code",
   "execution_count": 19,
   "id": "f80429d2",
   "metadata": {},
   "outputs": [
    {
     "data": {
      "text/plain": [
       "[7, 8, 9]"
      ]
     },
     "execution_count": 19,
     "metadata": {},
     "output_type": "execute_result"
    }
   ],
   "source": [
    "lllrd_3"
   ]
  },
  {
   "cell_type": "code",
   "execution_count": 20,
   "id": "fcdbfc4f",
   "metadata": {},
   "outputs": [],
   "source": [
    "matrix = [lst_1, llnd_2, lllrd_3]"
   ]
  },
  {
   "cell_type": "code",
   "execution_count": 21,
   "id": "d69a6735",
   "metadata": {},
   "outputs": [
    {
     "data": {
      "text/plain": [
       "[[1, 2, 3], [4, 5, 6], [7, 8, 9]]"
      ]
     },
     "execution_count": 21,
     "metadata": {},
     "output_type": "execute_result"
    }
   ],
   "source": [
    "matrix"
   ]
  },
  {
   "cell_type": "code",
   "execution_count": 22,
   "id": "e24865fe",
   "metadata": {},
   "outputs": [
    {
     "data": {
      "text/plain": [
       "[1, 2, 3]"
      ]
     },
     "execution_count": 22,
     "metadata": {},
     "output_type": "execute_result"
    }
   ],
   "source": [
    "matrix[0]"
   ]
  },
  {
   "cell_type": "code",
   "execution_count": 23,
   "id": "c92debf0",
   "metadata": {
    "scrolled": true
   },
   "outputs": [
    {
     "data": {
      "text/plain": [
       "[7, 8, 9]"
      ]
     },
     "execution_count": 23,
     "metadata": {},
     "output_type": "execute_result"
    }
   ],
   "source": [
    "matrix[2]"
   ]
  },
  {
   "cell_type": "code",
   "execution_count": 24,
   "id": "481106f8",
   "metadata": {},
   "outputs": [
    {
     "data": {
      "text/plain": [
       "2"
      ]
     },
     "execution_count": 24,
     "metadata": {},
     "output_type": "execute_result"
    }
   ],
   "source": [
    "matrix[0][1]"
   ]
  },
  {
   "cell_type": "code",
   "execution_count": 25,
   "id": "0d2ba669",
   "metadata": {},
   "outputs": [
    {
     "data": {
      "text/plain": [
       "4"
      ]
     },
     "execution_count": 25,
     "metadata": {},
     "output_type": "execute_result"
    }
   ],
   "source": [
    "      matrix[1][0]       "
   ]
  },
  {
   "cell_type": "code",
   "execution_count": 26,
   "id": "6b434bd6",
   "metadata": {},
   "outputs": [
    {
     "data": {
      "text/plain": [
       "[[1, 2, 3], [4, 5, 6], [7, 8, 9]]"
      ]
     },
     "execution_count": 26,
     "metadata": {},
     "output_type": "execute_result"
    }
   ],
   "source": [
    "matrix"
   ]
  },
  {
   "cell_type": "code",
   "execution_count": 27,
   "id": "384129ff",
   "metadata": {},
   "outputs": [
    {
     "data": {
      "text/plain": [
       "7"
      ]
     },
     "execution_count": 27,
     "metadata": {},
     "output_type": "execute_result"
    }
   ],
   "source": [
    "matrix[-1][0]"
   ]
  },
  {
   "cell_type": "code",
   "execution_count": 30,
   "id": "571ce056",
   "metadata": {},
   "outputs": [
    {
     "data": {
      "text/plain": [
       "9"
      ]
     },
     "execution_count": 30,
     "metadata": {},
     "output_type": "execute_result"
    }
   ],
   "source": [
    "matrix[-1][-1]"
   ]
  },
  {
   "cell_type": "code",
   "execution_count": 29,
   "id": "5240920b",
   "metadata": {},
   "outputs": [
    {
     "data": {
      "text/plain": [
       "8"
      ]
     },
     "execution_count": 29,
     "metadata": {},
     "output_type": "execute_result"
    }
   ],
   "source": [
    "matrix[-1][-2]"
   ]
  },
  {
   "cell_type": "code",
   "execution_count": 31,
   "id": "44b1c98a",
   "metadata": {},
   "outputs": [
    {
     "data": {
      "text/plain": [
       "list"
      ]
     },
     "execution_count": 31,
     "metadata": {},
     "output_type": "execute_result"
    }
   ],
   "source": [
    "type(matrix)"
   ]
  },
  {
   "cell_type": "code",
   "execution_count": 32,
   "id": "8e529c11",
   "metadata": {},
   "outputs": [],
   "source": [
    "a=7,8,9"
   ]
  },
  {
   "cell_type": "code",
   "execution_count": 33,
   "id": "c7db2fb9",
   "metadata": {},
   "outputs": [
    {
     "data": {
      "text/plain": [
       "tuple"
      ]
     },
     "execution_count": 33,
     "metadata": {},
     "output_type": "execute_result"
    }
   ],
   "source": [
    "type(a)"
   ]
  },
  {
   "cell_type": "code",
   "execution_count": 35,
   "id": "280fd520",
   "metadata": {},
   "outputs": [],
   "source": [
    "b=7"
   ]
  },
  {
   "cell_type": "code",
   "execution_count": 36,
   "id": "dab36b9a",
   "metadata": {},
   "outputs": [
    {
     "data": {
      "text/plain": [
       "int"
      ]
     },
     "execution_count": 36,
     "metadata": {},
     "output_type": "execute_result"
    }
   ],
   "source": [
    "type(b)"
   ]
  },
  {
   "cell_type": "code",
   "execution_count": 37,
   "id": "555aa83b",
   "metadata": {},
   "outputs": [],
   "source": [
    "matrix=[['a','b','c'],['d','e','f'],['g','h','i']]"
   ]
  },
  {
   "cell_type": "code",
   "execution_count": 38,
   "id": "06f6e790",
   "metadata": {},
   "outputs": [
    {
     "data": {
      "text/plain": [
       "[['a', 'b', 'c'], ['d', 'e', 'f'], ['g', 'h', 'i']]"
      ]
     },
     "execution_count": 38,
     "metadata": {},
     "output_type": "execute_result"
    }
   ],
   "source": [
    "matrix"
   ]
  },
  {
   "cell_type": "code",
   "execution_count": 39,
   "id": "68033349",
   "metadata": {},
   "outputs": [
    {
     "data": {
      "text/plain": [
       "'f'"
      ]
     },
     "execution_count": 39,
     "metadata": {},
     "output_type": "execute_result"
    }
   ],
   "source": [
    "matrix[1][2]"
   ]
  },
  {
   "cell_type": "code",
   "execution_count": 40,
   "id": "4e34ebc3",
   "metadata": {},
   "outputs": [
    {
     "data": {
      "text/plain": [
       "list"
      ]
     },
     "execution_count": 40,
     "metadata": {},
     "output_type": "execute_result"
    }
   ],
   "source": [
    "type(matrix)"
   ]
  },
  {
   "cell_type": "code",
   "execution_count": 41,
   "id": "6db44553",
   "metadata": {},
   "outputs": [],
   "source": [
    "my_dict={'key1':'value1', 'key2':'value2', 'key3':'value3'}"
   ]
  },
  {
   "cell_type": "code",
   "execution_count": 42,
   "id": "a8a6cf91",
   "metadata": {},
   "outputs": [
    {
     "data": {
      "text/plain": [
       "{'key1': 'value1', 'key2': 'value2', 'key3': 'value3'}"
      ]
     },
     "execution_count": 42,
     "metadata": {},
     "output_type": "execute_result"
    }
   ],
   "source": [
    "my_dict"
   ]
  },
  {
   "cell_type": "code",
   "execution_count": 43,
   "id": "28b89963",
   "metadata": {},
   "outputs": [
    {
     "data": {
      "text/plain": [
       "'value3'"
      ]
     },
     "execution_count": 43,
     "metadata": {},
     "output_type": "execute_result"
    }
   ],
   "source": [
    "my_dict['key3']"
   ]
  },
  {
   "cell_type": "code",
   "execution_count": 47,
   "id": "1b7f0ebd",
   "metadata": {},
   "outputs": [],
   "source": [
    "your_dict={'key1':123, 'key2':[1,23,456], 'key3':['rahul','pal','singhal']}"
   ]
  },
  {
   "cell_type": "code",
   "execution_count": 48,
   "id": "10373993",
   "metadata": {},
   "outputs": [
    {
     "data": {
      "text/plain": [
       "{'key1': 123, 'key2': [1, 23, 456], 'key3': ['rahul', 'pal', 'singhal']}"
      ]
     },
     "execution_count": 48,
     "metadata": {},
     "output_type": "execute_result"
    }
   ],
   "source": [
    "your_dict"
   ]
  },
  {
   "cell_type": "code",
   "execution_count": 49,
   "id": "e8cb87d5",
   "metadata": {},
   "outputs": [
    {
     "data": {
      "text/plain": [
       "['rahul', 'pal', 'singhal']"
      ]
     },
     "execution_count": 49,
     "metadata": {},
     "output_type": "execute_result"
    }
   ],
   "source": [
    "your_dict['key3']"
   ]
  },
  {
   "cell_type": "code",
   "execution_count": 53,
   "id": "b1e55916",
   "metadata": {},
   "outputs": [
    {
     "data": {
      "text/plain": [
       "'rahul'"
      ]
     },
     "execution_count": 53,
     "metadata": {},
     "output_type": "execute_result"
    }
   ],
   "source": [
    "your_dict['key3'][0]"
   ]
  },
  {
   "cell_type": "code",
   "execution_count": 54,
   "id": "e072ffe3",
   "metadata": {},
   "outputs": [
    {
     "data": {
      "text/plain": [
       "456"
      ]
     },
     "execution_count": 54,
     "metadata": {},
     "output_type": "execute_result"
    }
   ],
   "source": [
    "your_dict['key2'][2]"
   ]
  },
  {
   "cell_type": "code",
   "execution_count": 56,
   "id": "554cac9b",
   "metadata": {},
   "outputs": [
    {
     "data": {
      "text/plain": [
       "'RAHUL'"
      ]
     },
     "execution_count": 56,
     "metadata": {},
     "output_type": "execute_result"
    }
   ],
   "source": [
    "your_dict['key3'][0].upper()"
   ]
  },
  {
   "cell_type": "code",
   "execution_count": 58,
   "id": "ddc5fe92",
   "metadata": {},
   "outputs": [
    {
     "data": {
      "text/plain": [
       "'PAL'"
      ]
     },
     "execution_count": 58,
     "metadata": {},
     "output_type": "execute_result"
    }
   ],
   "source": [
    "your_dict['key3'][1].upper()"
   ]
  },
  {
   "cell_type": "code",
   "execution_count": 60,
   "id": "3ad8ec04",
   "metadata": {},
   "outputs": [
    {
     "data": {
      "text/plain": [
       "{'key1': 123, 'key2': [1, 23, 456], 'key3': ['rahul', 'pal', 'singhal']}"
      ]
     },
     "execution_count": 60,
     "metadata": {},
     "output_type": "execute_result"
    }
   ],
   "source": [
    "your_dict"
   ]
  },
  {
   "cell_type": "code",
   "execution_count": 61,
   "id": "eb492054",
   "metadata": {},
   "outputs": [
    {
     "data": {
      "text/plain": [
       "'PAL'"
      ]
     },
     "execution_count": 61,
     "metadata": {},
     "output_type": "execute_result"
    }
   ],
   "source": [
    "your_dict['key3'][1].upper()"
   ]
  },
  {
   "cell_type": "code",
   "execution_count": 68,
   "id": "d0e1735e",
   "metadata": {},
   "outputs": [],
   "source": [
    "your_dict['key1'] = your_dict['key1'] - 123"
   ]
  },
  {
   "cell_type": "code",
   "execution_count": 70,
   "id": "28b469f3",
   "metadata": {},
   "outputs": [
    {
     "data": {
      "text/plain": [
       "0"
      ]
     },
     "execution_count": 70,
     "metadata": {},
     "output_type": "execute_result"
    }
   ],
   "source": [
    "your_dict['key1']"
   ]
  },
  {
   "cell_type": "code",
   "execution_count": 75,
   "id": "1e5f72d0",
   "metadata": {},
   "outputs": [
    {
     "data": {
      "text/plain": [
       "-240"
      ]
     },
     "execution_count": 75,
     "metadata": {},
     "output_type": "execute_result"
    }
   ],
   "source": [
    "your_dict['key1']"
   ]
  },
  {
   "cell_type": "code",
   "execution_count": 76,
   "id": "3bebd449",
   "metadata": {},
   "outputs": [
    {
     "data": {
      "text/plain": [
       "-240"
      ]
     },
     "execution_count": 76,
     "metadata": {},
     "output_type": "execute_result"
    }
   ],
   "source": [
    "your_dict['key1']"
   ]
  },
  {
   "cell_type": "code",
   "execution_count": 77,
   "id": "356906d4",
   "metadata": {},
   "outputs": [
    {
     "data": {
      "text/plain": [
       "{'key1': -240, 'key2': [1, 23, 456], 'key3': ['rahul', 'pal', 'singhal']}"
      ]
     },
     "execution_count": 77,
     "metadata": {},
     "output_type": "execute_result"
    }
   ],
   "source": [
    "your_dict"
   ]
  },
  {
   "cell_type": "code",
   "execution_count": 78,
   "id": "81487470",
   "metadata": {},
   "outputs": [],
   "source": [
    "your_dict={'key1':123, 'key2':[1,23,456], 'key3':['rahul','pal','singhal']}"
   ]
  },
  {
   "cell_type": "code",
   "execution_count": 79,
   "id": "77f40d77",
   "metadata": {},
   "outputs": [
    {
     "data": {
      "text/plain": [
       "{'key1': 123, 'key2': [1, 23, 456], 'key3': ['rahul', 'pal', 'singhal']}"
      ]
     },
     "execution_count": 79,
     "metadata": {},
     "output_type": "execute_result"
    }
   ],
   "source": [
    "your_dict"
   ]
  },
  {
   "cell_type": "code",
   "execution_count": 80,
   "id": "296e10c3",
   "metadata": {},
   "outputs": [],
   "source": [
    "your_dict['key1'] = your_dict['key1']+123"
   ]
  },
  {
   "cell_type": "code",
   "execution_count": 81,
   "id": "ea89639f",
   "metadata": {},
   "outputs": [
    {
     "data": {
      "text/plain": [
       "246"
      ]
     },
     "execution_count": 81,
     "metadata": {},
     "output_type": "execute_result"
    }
   ],
   "source": [
    "your_dict['key1']"
   ]
  },
  {
   "cell_type": "code",
   "execution_count": 82,
   "id": "a0969905",
   "metadata": {},
   "outputs": [],
   "source": [
    "your_dict['key1'] = your_dict['key1'] *2"
   ]
  },
  {
   "cell_type": "code",
   "execution_count": 83,
   "id": "43687731",
   "metadata": {},
   "outputs": [
    {
     "data": {
      "text/plain": [
       "492"
      ]
     },
     "execution_count": 83,
     "metadata": {},
     "output_type": "execute_result"
    }
   ],
   "source": [
    "your_dict['key1']"
   ]
  },
  {
   "cell_type": "code",
   "execution_count": 84,
   "id": "56edafb4",
   "metadata": {},
   "outputs": [],
   "source": [
    "your_dict['key1']-=123"
   ]
  },
  {
   "cell_type": "code",
   "execution_count": 85,
   "id": "2058ecd1",
   "metadata": {},
   "outputs": [
    {
     "data": {
      "text/plain": [
       "369"
      ]
     },
     "execution_count": 85,
     "metadata": {},
     "output_type": "execute_result"
    }
   ],
   "source": [
    "your_dict['key1']"
   ]
  },
  {
   "cell_type": "code",
   "execution_count": 87,
   "id": "14250077",
   "metadata": {},
   "outputs": [],
   "source": [
    "your_dict['key1'] += 123"
   ]
  },
  {
   "cell_type": "code",
   "execution_count": 88,
   "id": "a9128665",
   "metadata": {},
   "outputs": [
    {
     "data": {
      "text/plain": [
       "492"
      ]
     },
     "execution_count": 88,
     "metadata": {},
     "output_type": "execute_result"
    }
   ],
   "source": [
    "your_dict['key1']"
   ]
  },
  {
   "cell_type": "code",
   "execution_count": 89,
   "id": "43559173",
   "metadata": {},
   "outputs": [],
   "source": [
    "your_dict['key1'] /= 2"
   ]
  },
  {
   "cell_type": "code",
   "execution_count": 90,
   "id": "51296210",
   "metadata": {},
   "outputs": [
    {
     "data": {
      "text/plain": [
       "246.0"
      ]
     },
     "execution_count": 90,
     "metadata": {},
     "output_type": "execute_result"
    }
   ],
   "source": [
    "your_dict['key1']"
   ]
  },
  {
   "cell_type": "code",
   "execution_count": 91,
   "id": "d4437394",
   "metadata": {},
   "outputs": [],
   "source": [
    " d = {}"
   ]
  },
  {
   "cell_type": "code",
   "execution_count": 94,
   "id": "92850d68",
   "metadata": {},
   "outputs": [],
   "source": [
    "d['Animal']='Dog'"
   ]
  },
  {
   "cell_type": "code",
   "execution_count": 95,
   "id": "985fb90e",
   "metadata": {},
   "outputs": [
    {
     "data": {
      "text/plain": [
       "{'animal': 'Dog', 'Animal': 'Dog'}"
      ]
     },
     "execution_count": 95,
     "metadata": {},
     "output_type": "execute_result"
    }
   ],
   "source": [
    "d"
   ]
  },
  {
   "cell_type": "code",
   "execution_count": 96,
   "id": "77c696b0",
   "metadata": {},
   "outputs": [],
   "source": [
    "d['Employee']='Rahul'"
   ]
  },
  {
   "cell_type": "code",
   "execution_count": 97,
   "id": "2c0cd956",
   "metadata": {},
   "outputs": [],
   "source": [
    "d['Flower']='Rose'"
   ]
  },
  {
   "cell_type": "code",
   "execution_count": 98,
   "id": "c9910202",
   "metadata": {},
   "outputs": [],
   "source": [
    "d['Number']=4"
   ]
  },
  {
   "cell_type": "code",
   "execution_count": 99,
   "id": "9a176a12",
   "metadata": {},
   "outputs": [
    {
     "data": {
      "text/plain": [
       "{'animal': 'Dog',\n",
       " 'Animal': 'Dog',\n",
       " 'Employee': 'Rahul',\n",
       " 'Flower': 'Rose',\n",
       " 'Number': 4}"
      ]
     },
     "execution_count": 99,
     "metadata": {},
     "output_type": "execute_result"
    }
   ],
   "source": [
    "d"
   ]
  },
  {
   "cell_type": "code",
   "execution_count": 100,
   "id": "57d32968",
   "metadata": {},
   "outputs": [],
   "source": [
    "d={'key':{'nestkey':{'subnestkey':'value'}}}"
   ]
  },
  {
   "cell_type": "code",
   "execution_count": 101,
   "id": "05e3de33",
   "metadata": {},
   "outputs": [
    {
     "data": {
      "text/plain": [
       "{'key': {'nestkey': {'subnestkey': 'value'}}}"
      ]
     },
     "execution_count": 101,
     "metadata": {},
     "output_type": "execute_result"
    }
   ],
   "source": [
    "d"
   ]
  },
  {
   "cell_type": "code",
   "execution_count": 104,
   "id": "35d1bea2",
   "metadata": {},
   "outputs": [
    {
     "data": {
      "text/plain": [
       "'value'"
      ]
     },
     "execution_count": 104,
     "metadata": {},
     "output_type": "execute_result"
    }
   ],
   "source": [
    "d['key']['nestkey']['subnestkey']"
   ]
  },
  {
   "cell_type": "code",
   "execution_count": 106,
   "id": "344cc119",
   "metadata": {},
   "outputs": [],
   "source": [
    "d={'key1':1, 'key2':2, 'key3':3}"
   ]
  },
  {
   "cell_type": "code",
   "execution_count": 107,
   "id": "db0e3d68",
   "metadata": {},
   "outputs": [
    {
     "data": {
      "text/plain": [
       "{'key1': 1, 'key2': 2, 'key3': 3}"
      ]
     },
     "execution_count": 107,
     "metadata": {},
     "output_type": "execute_result"
    }
   ],
   "source": [
    "d"
   ]
  },
  {
   "cell_type": "code",
   "execution_count": 108,
   "id": "5e10a267",
   "metadata": {},
   "outputs": [
    {
     "data": {
      "text/plain": [
       "dict_keys(['key1', 'key2', 'key3'])"
      ]
     },
     "execution_count": 108,
     "metadata": {},
     "output_type": "execute_result"
    }
   ],
   "source": [
    "d.keys()"
   ]
  },
  {
   "cell_type": "code",
   "execution_count": 109,
   "id": "4ed71161",
   "metadata": {},
   "outputs": [
    {
     "data": {
      "text/plain": [
       "dict_values([1, 2, 3])"
      ]
     },
     "execution_count": 109,
     "metadata": {},
     "output_type": "execute_result"
    }
   ],
   "source": [
    "d.values()"
   ]
  },
  {
   "cell_type": "code",
   "execution_count": 110,
   "id": "65dbd4f9",
   "metadata": {},
   "outputs": [
    {
     "data": {
      "text/plain": [
       "dict_items([('key1', 1), ('key2', 2), ('key3', 3)])"
      ]
     },
     "execution_count": 110,
     "metadata": {},
     "output_type": "execute_result"
    }
   ],
   "source": [
    "d.items()"
   ]
  },
  {
   "cell_type": "code",
   "execution_count": null,
   "id": "56a2388c",
   "metadata": {},
   "outputs": [],
   "source": []
  }
 ],
 "metadata": {
  "kernelspec": {
   "display_name": "Python 3 (ipykernel)",
   "language": "python",
   "name": "python3"
  },
  "language_info": {
   "codemirror_mode": {
    "name": "ipython",
    "version": 3
   },
   "file_extension": ".py",
   "mimetype": "text/x-python",
   "name": "python",
   "nbconvert_exporter": "python",
   "pygments_lexer": "ipython3",
   "version": "3.9.12"
  }
 },
 "nbformat": 4,
 "nbformat_minor": 5
}
